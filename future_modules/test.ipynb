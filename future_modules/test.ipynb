{
 "cells": [
  {
   "cell_type": "markdown",
   "metadata": {},
   "source": [
    "** Module 1 **\n",
    "Identify ranges\n",
    "\n",
    "that module identify a range and return the lowest o biggest value at the users choice"
   ]
  },
  {
   "cell_type": "code",
   "execution_count": null,
   "metadata": {},
   "outputs": [],
   "source": [
    "#modules necesaries \n",
    "import re #regular expresions module\n"
   ]
  },
  {
   "cell_type": "code",
   "execution_count": null,
   "metadata": {},
   "outputs": [],
   "source": [
    "#this function change the range to one number \n",
    "def identify_range(values:list, option:int=1):\n",
    "    \"\"\" if option isn't defined default value is 1 and the option is the maximum value betwen both numbers, if is 0 the option is the lowest number betwen both numbers\"\"\"\n",
    "    option = option==1\n",
    "    def this_is_a_range_value(obje:str, option=option):\n",
    "        pattern = r\"(\\d+)-(\\d+)\"\n",
    "        coincide = re.match(pattern, obje)\n",
    "        if coincide:\n",
    "            if option:\n",
    "                return coincide.group(2)\n",
    "            return coincide.group(1)\n",
    "        return None\n",
    "        \n",
    "    for answer in values:\n",
    "        print(this_is_a_range_value(answer))"
   ]
  }
 ],
 "metadata": {
  "language_info": {
   "name": "python"
  }
 },
 "nbformat": 4,
 "nbformat_minor": 2
}
